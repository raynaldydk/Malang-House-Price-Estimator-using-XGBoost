{
 "cells": [
  {
   "cell_type": "markdown",
   "id": "9171e5ae",
   "metadata": {},
   "source": [
    "# Import Libraries"
   ]
  },
  {
   "cell_type": "code",
   "execution_count": 1,
   "id": "fbb695fe",
   "metadata": {},
   "outputs": [],
   "source": [
    "import numpy as np\n",
    "import pandas as pd\n",
    "import seaborn as sns\n",
    "import matplotlib.pyplot as plt\n",
    "import missingno as msno"
   ]
  },
  {
   "cell_type": "markdown",
   "id": "5ca0b832",
   "metadata": {},
   "source": [
    "# Load Dataset"
   ]
  },
  {
   "cell_type": "code",
   "execution_count": 3,
   "id": "8d2f8a84",
   "metadata": {},
   "outputs": [
    {
     "data": {
      "text/html": [
       "<div>\n",
       "<style scoped>\n",
       "    .dataframe tbody tr th:only-of-type {\n",
       "        vertical-align: middle;\n",
       "    }\n",
       "\n",
       "    .dataframe tbody tr th {\n",
       "        vertical-align: top;\n",
       "    }\n",
       "\n",
       "    .dataframe thead th {\n",
       "        text-align: right;\n",
       "    }\n",
       "</style>\n",
       "<table border=\"1\" class=\"dataframe\">\n",
       "  <thead>\n",
       "    <tr style=\"text-align: right;\">\n",
       "      <th></th>\n",
       "      <th>price</th>\n",
       "      <th>bedroom</th>\n",
       "      <th>hsize</th>\n",
       "      <th>lsize</th>\n",
       "      <th>location</th>\n",
       "      <th>facility</th>\n",
       "    </tr>\n",
       "  </thead>\n",
       "  <tbody>\n",
       "    <tr>\n",
       "      <th>0</th>\n",
       "      <td>320000000.0</td>\n",
       "      <td>2</td>\n",
       "      <td>36.0</td>\n",
       "      <td>72</td>\n",
       "      <td>Kedungkandang</td>\n",
       "      <td>2.0</td>\n",
       "    </tr>\n",
       "    <tr>\n",
       "      <th>1</th>\n",
       "      <td>600000000.0</td>\n",
       "      <td>3</td>\n",
       "      <td>70.0</td>\n",
       "      <td>64</td>\n",
       "      <td>Dau</td>\n",
       "      <td>4.0</td>\n",
       "    </tr>\n",
       "    <tr>\n",
       "      <th>2</th>\n",
       "      <td>459000000.0</td>\n",
       "      <td>3</td>\n",
       "      <td>65.0</td>\n",
       "      <td>60</td>\n",
       "      <td>Pakis</td>\n",
       "      <td>6.0</td>\n",
       "    </tr>\n",
       "    <tr>\n",
       "      <th>3</th>\n",
       "      <td>227000000.0</td>\n",
       "      <td>2</td>\n",
       "      <td>62.0</td>\n",
       "      <td>43</td>\n",
       "      <td>Pakis</td>\n",
       "      <td>6.0</td>\n",
       "    </tr>\n",
       "    <tr>\n",
       "      <th>4</th>\n",
       "      <td>250000000.0</td>\n",
       "      <td>2</td>\n",
       "      <td>50.0</td>\n",
       "      <td>84</td>\n",
       "      <td>Singosari</td>\n",
       "      <td>NaN</td>\n",
       "    </tr>\n",
       "  </tbody>\n",
       "</table>\n",
       "</div>"
      ],
      "text/plain": [
       "         price  bedroom  hsize  lsize       location  facility\n",
       "0  320000000.0        2   36.0     72  Kedungkandang       2.0\n",
       "1  600000000.0        3   70.0     64            Dau       4.0\n",
       "2  459000000.0        3   65.0     60          Pakis       6.0\n",
       "3  227000000.0        2   62.0     43          Pakis       6.0\n",
       "4  250000000.0        2   50.0     84      Singosari       NaN"
      ]
     },
     "execution_count": 3,
     "metadata": {},
     "output_type": "execute_result"
    }
   ],
   "source": [
    "df = pd.read_csv('malang.csv')\n",
    "df.head()"
   ]
  },
  {
   "cell_type": "code",
   "execution_count": 4,
   "id": "b15fe89d",
   "metadata": {},
   "outputs": [
    {
     "data": {
      "text/plain": [
       "(3000, 6)"
      ]
     },
     "execution_count": 4,
     "metadata": {},
     "output_type": "execute_result"
    }
   ],
   "source": [
    "df.shape"
   ]
  },
  {
   "cell_type": "code",
   "execution_count": 6,
   "id": "9329b0a3",
   "metadata": {},
   "outputs": [
    {
     "name": "stdout",
     "output_type": "stream",
     "text": [
      "<class 'pandas.core.frame.DataFrame'>\n",
      "RangeIndex: 3000 entries, 0 to 2999\n",
      "Data columns (total 6 columns):\n",
      " #   Column    Non-Null Count  Dtype  \n",
      "---  ------    --------------  -----  \n",
      " 0   price     2991 non-null   float64\n",
      " 1   bedroom   3000 non-null   int64  \n",
      " 2   hsize     2997 non-null   float64\n",
      " 3   lsize     3000 non-null   int64  \n",
      " 4   location  3000 non-null   object \n",
      " 5   facility  987 non-null    float64\n",
      "dtypes: float64(3), int64(2), object(1)\n",
      "memory usage: 140.8+ KB\n"
     ]
    }
   ],
   "source": [
    "df.info()"
   ]
  },
  {
   "cell_type": "code",
   "execution_count": 5,
   "id": "e2e65491",
   "metadata": {
    "scrolled": false
   },
   "outputs": [
    {
     "data": {
      "text/plain": [
       "<AxesSubplot:>"
      ]
     },
     "execution_count": 5,
     "metadata": {},
     "output_type": "execute_result"
    },
    {
     "data": {
      "image/png": "[encoded data removed]",
      "text/plain": [
       "<Figure size 1800x720 with 2 Axes>"
      ]
     },
     "metadata": {
      "needs_background": "light"
     },
     "output_type": "display_data"
    }
   ],
   "source": [
    "msno.matrix(df)"
   ]
  },
  {
   "cell_type": "code",
   "execution_count": 7,
   "id": "c7e141a9",
   "metadata": {},
   "outputs": [
    {
     "data": {
      "text/html": [
       "<div>\n",
       "<style scoped>\n",
       "    .dataframe tbody tr th:only-of-type {\n",
       "        vertical-align: middle;\n",
       "    }\n",
       "\n",
       "    .dataframe tbody tr th {\n",
       "        vertical-align: top;\n",
       "    }\n",
       "\n",
       "    .dataframe thead th {\n",
       "        text-align: right;\n",
       "    }\n",
       "</style>\n",
       "<table border=\"1\" class=\"dataframe\">\n",
       "  <thead>\n",
       "    <tr style=\"text-align: right;\">\n",
       "      <th></th>\n",
       "      <th>price</th>\n",
       "      <th>bedroom</th>\n",
       "      <th>hsize</th>\n",
       "      <th>lsize</th>\n",
       "      <th>facility</th>\n",
       "    </tr>\n",
       "  </thead>\n",
       "  <tbody>\n",
       "    <tr>\n",
       "      <th>count</th>\n",
       "      <td>2.991000e+03</td>\n",
       "      <td>3000.000000</td>\n",
       "      <td>2997.000000</td>\n",
       "      <td>3000.000000</td>\n",
       "      <td>987.000000</td>\n",
       "    </tr>\n",
       "    <tr>\n",
       "      <th>mean</th>\n",
       "      <td>1.956094e+09</td>\n",
       "      <td>4.246000</td>\n",
       "      <td>164.706373</td>\n",
       "      <td>179.025000</td>\n",
       "      <td>5.007092</td>\n",
       "    </tr>\n",
       "    <tr>\n",
       "      <th>std</th>\n",
       "      <td>2.619097e+09</td>\n",
       "      <td>8.886008</td>\n",
       "      <td>165.711102</td>\n",
       "      <td>204.545548</td>\n",
       "      <td>3.570636</td>\n",
       "    </tr>\n",
       "    <tr>\n",
       "      <th>min</th>\n",
       "      <td>9.900000e+07</td>\n",
       "      <td>1.000000</td>\n",
       "      <td>1.000000</td>\n",
       "      <td>1.000000</td>\n",
       "      <td>1.000000</td>\n",
       "    </tr>\n",
       "    <tr>\n",
       "      <th>25%</th>\n",
       "      <td>5.500000e+08</td>\n",
       "      <td>2.000000</td>\n",
       "      <td>58.000000</td>\n",
       "      <td>77.000000</td>\n",
       "      <td>2.000000</td>\n",
       "    </tr>\n",
       "    <tr>\n",
       "      <th>50%</th>\n",
       "      <td>1.030000e+09</td>\n",
       "      <td>3.000000</td>\n",
       "      <td>110.000000</td>\n",
       "      <td>116.000000</td>\n",
       "      <td>4.000000</td>\n",
       "    </tr>\n",
       "    <tr>\n",
       "      <th>75%</th>\n",
       "      <td>2.362500e+09</td>\n",
       "      <td>4.000000</td>\n",
       "      <td>200.000000</td>\n",
       "      <td>203.250000</td>\n",
       "      <td>7.000000</td>\n",
       "    </tr>\n",
       "    <tr>\n",
       "      <th>max</th>\n",
       "      <td>3.500000e+10</td>\n",
       "      <td>300.000000</td>\n",
       "      <td>2000.000000</td>\n",
       "      <td>4884.000000</td>\n",
       "      <td>22.000000</td>\n",
       "    </tr>\n",
       "  </tbody>\n",
       "</table>\n",
       "</div>"
      ],
      "text/plain": [
       "              price      bedroom        hsize        lsize    facility\n",
       "count  2.991000e+03  3000.000000  2997.000000  3000.000000  987.000000\n",
       "mean   1.956094e+09     4.246000   164.706373   179.025000    5.007092\n",
       "std    2.619097e+09     8.886008   165.711102   204.545548    3.570636\n",
       "min    9.900000e+07     1.000000     1.000000     1.000000    1.000000\n",
       "25%    5.500000e+08     2.000000    58.000000    77.000000    2.000000\n",
       "50%    1.030000e+09     3.000000   110.000000   116.000000    4.000000\n",
       "75%    2.362500e+09     4.000000   200.000000   203.250000    7.000000\n",
       "max    3.500000e+10   300.000000  2000.000000  4884.000000   22.000000"
      ]
     },
     "execution_count": 7,
     "metadata": {},
     "output_type": "execute_result"
    }
   ],
   "source": [
    "df.describe()"
   ]
  },
  {
   "cell_type": "markdown",
   "id": "b9dbaf89",
   "metadata": {},
   "source": [
    "# EDA"
   ]
  },
  {
   "cell_type": "markdown",
   "id": "0da46ad7",
   "metadata": {},
   "source": [
    "## Target: price"
   ]
  },
  {
   "cell_type": "code",
   "execution_count": 8,
   "id": "8b151a00",
   "metadata": {},
   "outputs": [
    {
     "data": {
      "text/plain": [
       "0    320000000.0\n",
       "1    600000000.0\n",
       "2    459000000.0\n",
       "3    227000000.0\n",
       "4    250000000.0\n",
       "Name: price, dtype: float64"
      ]
     },
     "execution_count": 8,
     "metadata": {},
     "output_type": "execute_result"
    }
   ],
   "source": [
    "df.price.head()"
   ]
  },
  {
   "cell_type": "code",
   "execution_count": 9,
   "id": "fc62014c",
   "metadata": {},
   "outputs": [],
   "source": [
    "df['price'] = df.price / 1000000"
   ]
  },
  {
   "cell_type": "code",
   "execution_count": 10,
   "id": "6ae8bb68",
   "metadata": {},
   "outputs": [
    {
     "name": "stderr",
     "output_type": "stream",
     "text": [
      "C:\\Users\\ASUS\\miniconda3\\lib\\site-packages\\seaborn\\_decorators.py:36: FutureWarning: Pass the following variable as a keyword arg: x. From version 0.12, the only valid positional argument will be `data`, and passing other arguments without an explicit keyword will result in an error or misinterpretation.\n",
      "  warnings.warn(\n"
     ]
    },
    {
     "data": {
      "text/plain": [
       "<AxesSubplot:xlabel='price'>"
      ]
     },
     "execution_count": 10,
     "metadata": {},
     "output_type": "execute_result"
    },
    {
     "data": {
      "image/png": "[encoded data removed]",
      "text/plain": [
       "<Figure size 432x288 with 1 Axes>"
      ]
     },
     "metadata": {
      "needs_background": "light"
     },
     "output_type": "display_data"
    }
   ],
   "source": [
    "sns.boxplot(df.price, whis=3)"
   ]
  },
  {
   "cell_type": "markdown",
   "id": "8ac45215",
   "metadata": {},
   "source": [
    "- Price distribution is skewed so hard, because of the outliers in the data let's remove it.\n",
    "- House with a price above 8 Billion IDR is really really expensive and might screwed our model later.\n",
    "- You gonna need an expert to inspect a house that price anyway.\n",
    "- There are 9 missing values in our target variable let's remove it right now."
   ]
  },
  {
   "cell_type": "code",
   "execution_count": 12,
   "id": "b8e79046",
   "metadata": {},
   "outputs": [],
   "source": [
    "df.price.dropna(inplace=True)"
   ]
  },
  {
   "cell_type": "code",
   "execution_count": 25,
   "id": "04f0a87b",
   "metadata": {},
   "outputs": [
    {
     "data": {
      "text/html": [
       "<div>\n",
       "<style scoped>\n",
       "    .dataframe tbody tr th:only-of-type {\n",
       "        vertical-align: middle;\n",
       "    }\n",
       "\n",
       "    .dataframe tbody tr th {\n",
       "        vertical-align: top;\n",
       "    }\n",
       "\n",
       "    .dataframe thead th {\n",
       "        text-align: right;\n",
       "    }\n",
       "</style>\n",
       "<table border=\"1\" class=\"dataframe\">\n",
       "  <thead>\n",
       "    <tr style=\"text-align: right;\">\n",
       "      <th></th>\n",
       "      <th>price</th>\n",
       "      <th>bedroom</th>\n",
       "      <th>hsize</th>\n",
       "      <th>lsize</th>\n",
       "      <th>location</th>\n",
       "      <th>facility</th>\n",
       "    </tr>\n",
       "  </thead>\n",
       "  <tbody>\n",
       "    <tr>\n",
       "      <th>64</th>\n",
       "      <td>15000.0</td>\n",
       "      <td>26</td>\n",
       "      <td>1000.0</td>\n",
       "      <td>629</td>\n",
       "      <td>Ketawanggede</td>\n",
       "      <td>NaN</td>\n",
       "    </tr>\n",
       "    <tr>\n",
       "      <th>89</th>\n",
       "      <td>10000.0</td>\n",
       "      <td>6</td>\n",
       "      <td>528.0</td>\n",
       "      <td>528</td>\n",
       "      <td>Klojen</td>\n",
       "      <td>NaN</td>\n",
       "    </tr>\n",
       "    <tr>\n",
       "      <th>131</th>\n",
       "      <td>9000.0</td>\n",
       "      <td>6</td>\n",
       "      <td>730.0</td>\n",
       "      <td>450</td>\n",
       "      <td>Sukun</td>\n",
       "      <td>8.0</td>\n",
       "    </tr>\n",
       "    <tr>\n",
       "      <th>171</th>\n",
       "      <td>9000.0</td>\n",
       "      <td>6</td>\n",
       "      <td>400.0</td>\n",
       "      <td>561</td>\n",
       "      <td>Blimbing</td>\n",
       "      <td>6.0</td>\n",
       "    </tr>\n",
       "    <tr>\n",
       "      <th>183</th>\n",
       "      <td>10000.0</td>\n",
       "      <td>4</td>\n",
       "      <td>550.0</td>\n",
       "      <td>496</td>\n",
       "      <td>Dieng</td>\n",
       "      <td>NaN</td>\n",
       "    </tr>\n",
       "  </tbody>\n",
       "</table>\n",
       "</div>"
      ],
      "text/plain": [
       "       price  bedroom   hsize  lsize      location  facility\n",
       "64   15000.0       26  1000.0    629  Ketawanggede       NaN\n",
       "89   10000.0        6   528.0    528        Klojen       NaN\n",
       "131   9000.0        6   730.0    450         Sukun       8.0\n",
       "171   9000.0        6   400.0    561      Blimbing       6.0\n",
       "183  10000.0        4   550.0    496         Dieng       NaN"
      ]
     },
     "execution_count": 25,
     "metadata": {},
     "output_type": "execute_result"
    }
   ],
   "source": [
    "price_outlier = df[df.price > 8000]\n",
    "price_outlier.head()"
   ]
  },
  {
   "cell_type": "code",
   "execution_count": 26,
   "id": "38de8218",
   "metadata": {},
   "outputs": [],
   "source": [
    "df = df[~df.price.isin(price_outlier.price)]"
   ]
  },
  {
   "cell_type": "code",
   "execution_count": 34,
   "id": "bd49c0f7",
   "metadata": {},
   "outputs": [
    {
     "data": {
      "text/plain": [
       "<AxesSubplot:xlabel='price', ylabel='Count'>"
      ]
     },
     "execution_count": 34,
     "metadata": {},
     "output_type": "execute_result"
    },
    {
     "data": {
      "image/png": "[encoded data removed]",
      "text/plain": [
       "<Figure size 432x288 with 1 Axes>"
      ]
     },
     "metadata": {
      "needs_background": "light"
     },
     "output_type": "display_data"
    }
   ],
   "source": [
    "sns.histplot(df.price)"
   ]
  },
  {
   "cell_type": "markdown",
   "id": "e539c5bb",
   "metadata": {},
   "source": [
    "## Feature: bedroom"
   ]
  },
  {
   "cell_type": "code",
   "execution_count": 37,
   "id": "1c5897ef",
   "metadata": {},
   "outputs": [
    {
     "name": "stderr",
     "output_type": "stream",
     "text": [
      "C:\\Users\\ASUS\\miniconda3\\lib\\site-packages\\seaborn\\_decorators.py:36: FutureWarning: Pass the following variable as a keyword arg: x. From version 0.12, the only valid positional argument will be `data`, and passing other arguments without an explicit keyword will result in an error or misinterpretation.\n",
      "  warnings.warn(\n"
     ]
    },
    {
     "data": {
      "text/plain": [
       "<AxesSubplot:xlabel='bedroom', ylabel='count'>"
      ]
     },
     "execution_count": 37,
     "metadata": {},
     "output_type": "execute_result"
    },
    {
     "data": {
      "image/png": "[encoded data removed]",
      "text/plain": [
       "<Figure size 432x288 with 1 Axes>"
      ]
     },
     "metadata": {
      "needs_background": "light"
     },
     "output_type": "display_data"
    }
   ],
   "source": [
    "sns.countplot(df.bedroom)"
   ]
  },
  {
   "cell_type": "code",
   "execution_count": 38,
   "id": "69268419",
   "metadata": {},
   "outputs": [
    {
     "data": {
      "text/plain": [
       "count    2897.000000\n",
       "mean        4.101484\n",
       "std         8.841924\n",
       "min         1.000000\n",
       "25%         2.000000\n",
       "50%         3.000000\n",
       "75%         4.000000\n",
       "max       300.000000\n",
       "Name: bedroom, dtype: float64"
      ]
     },
     "execution_count": 38,
     "metadata": {},
     "output_type": "execute_result"
    }
   ],
   "source": [
    "df.bedroom.describe()"
   ]
  },
  {
   "cell_type": "markdown",
   "id": "c312f04f",
   "metadata": {},
   "source": [
    "- Wow 300 bedrooms, I wonder what it is?"
   ]
  },
  {
   "cell_type": "code",
   "execution_count": 39,
   "id": "6c74fd25",
   "metadata": {},
   "outputs": [
    {
     "data": {
      "text/html": [
       "<div>\n",
       "<style scoped>\n",
       "    .dataframe tbody tr th:only-of-type {\n",
       "        vertical-align: middle;\n",
       "    }\n",
       "\n",
       "    .dataframe tbody tr th {\n",
       "        vertical-align: top;\n",
       "    }\n",
       "\n",
       "    .dataframe thead th {\n",
       "        text-align: right;\n",
       "    }\n",
       "</style>\n",
       "<table border=\"1\" class=\"dataframe\">\n",
       "  <thead>\n",
       "    <tr style=\"text-align: right;\">\n",
       "      <th></th>\n",
       "      <th>price</th>\n",
       "      <th>bedroom</th>\n",
       "      <th>hsize</th>\n",
       "      <th>lsize</th>\n",
       "      <th>location</th>\n",
       "      <th>facility</th>\n",
       "    </tr>\n",
       "  </thead>\n",
       "  <tbody>\n",
       "    <tr>\n",
       "      <th>2168</th>\n",
       "      <td>1600.0</td>\n",
       "      <td>300</td>\n",
       "      <td>NaN</td>\n",
       "      <td>300</td>\n",
       "      <td>Blimbing</td>\n",
       "      <td>NaN</td>\n",
       "    </tr>\n",
       "    <tr>\n",
       "      <th>2198</th>\n",
       "      <td>1600.0</td>\n",
       "      <td>300</td>\n",
       "      <td>NaN</td>\n",
       "      <td>300</td>\n",
       "      <td>Blimbing</td>\n",
       "      <td>NaN</td>\n",
       "    </tr>\n",
       "  </tbody>\n",
       "</table>\n",
       "</div>"
      ],
      "text/plain": [
       "       price  bedroom  hsize  lsize  location  facility\n",
       "2168  1600.0      300    NaN    300  Blimbing       NaN\n",
       "2198  1600.0      300    NaN    300  Blimbing       NaN"
      ]
     },
     "execution_count": 39,
     "metadata": {},
     "output_type": "execute_result"
    }
   ],
   "source": [
    "df[df.bedroom == 300]"
   ]
  },
  {
   "cell_type": "markdown",
   "id": "f0aff716",
   "metadata": {},
   "source": [
    "- looking at the price and the lot size, it's doesn't make any sense let's drop it\n",
    "- also, a house with more than 6/7 bedrooms is maybe a 'kost' and we don't wanna predict a 'kost' price"
   ]
  },
  {
   "cell_type": "code",
   "execution_count": 43,
   "id": "4b565e2f",
   "metadata": {
    "scrolled": true
   },
   "outputs": [
    {
     "data": {
      "text/html": [
       "<div>\n",
       "<style scoped>\n",
       "    .dataframe tbody tr th:only-of-type {\n",
       "        vertical-align: middle;\n",
       "    }\n",
       "\n",
       "    .dataframe tbody tr th {\n",
       "        vertical-align: top;\n",
       "    }\n",
       "\n",
       "    .dataframe thead th {\n",
       "        text-align: right;\n",
       "    }\n",
       "</style>\n",
       "<table border=\"1\" class=\"dataframe\">\n",
       "  <thead>\n",
       "    <tr style=\"text-align: right;\">\n",
       "      <th></th>\n",
       "      <th>price</th>\n",
       "      <th>bedroom</th>\n",
       "      <th>hsize</th>\n",
       "      <th>lsize</th>\n",
       "      <th>location</th>\n",
       "      <th>facility</th>\n",
       "    </tr>\n",
       "  </thead>\n",
       "  <tbody>\n",
       "    <tr>\n",
       "      <th>6</th>\n",
       "      <td>1350.0</td>\n",
       "      <td>13</td>\n",
       "      <td>280.0</td>\n",
       "      <td>84</td>\n",
       "      <td>Tlogomas</td>\n",
       "      <td>7.0</td>\n",
       "    </tr>\n",
       "    <tr>\n",
       "      <th>31</th>\n",
       "      <td>135.0</td>\n",
       "      <td>10</td>\n",
       "      <td>168.0</td>\n",
       "      <td>168</td>\n",
       "      <td>Merjosari</td>\n",
       "      <td>NaN</td>\n",
       "    </tr>\n",
       "    <tr>\n",
       "      <th>37</th>\n",
       "      <td>594.0</td>\n",
       "      <td>42</td>\n",
       "      <td>69.0</td>\n",
       "      <td>69</td>\n",
       "      <td>Lowokwaru</td>\n",
       "      <td>NaN</td>\n",
       "    </tr>\n",
       "    <tr>\n",
       "      <th>45</th>\n",
       "      <td>1500.0</td>\n",
       "      <td>11</td>\n",
       "      <td>198.0</td>\n",
       "      <td>115</td>\n",
       "      <td>Lowokwaru</td>\n",
       "      <td>4.0</td>\n",
       "    </tr>\n",
       "    <tr>\n",
       "      <th>47</th>\n",
       "      <td>890.0</td>\n",
       "      <td>8</td>\n",
       "      <td>140.0</td>\n",
       "      <td>72</td>\n",
       "      <td>Tunjungsekar</td>\n",
       "      <td>10.0</td>\n",
       "    </tr>\n",
       "  </tbody>\n",
       "</table>\n",
       "</div>"
      ],
      "text/plain": [
       "     price  bedroom  hsize  lsize      location  facility\n",
       "6   1350.0       13  280.0     84      Tlogomas       7.0\n",
       "31   135.0       10  168.0    168     Merjosari       NaN\n",
       "37   594.0       42   69.0     69     Lowokwaru       NaN\n",
       "45  1500.0       11  198.0    115     Lowokwaru       4.0\n",
       "47   890.0        8  140.0     72  Tunjungsekar      10.0"
      ]
     },
     "execution_count": 43,
     "metadata": {},
     "output_type": "execute_result"
    }
   ],
   "source": [
    "bedroom_outlier = df[df.bedroom > 6]\n",
    "bedroom_outlier.head()"
   ]
  },
  {
   "cell_type": "code",
   "execution_count": 44,
   "id": "d1a6cf87",
   "metadata": {},
   "outputs": [],
   "source": [
    "df = df[~df.bedroom.isin(bedroom_outlier.bedroom)]"
   ]
  },
  {
   "cell_type": "code",
   "execution_count": 45,
   "id": "21149b6f",
   "metadata": {},
   "outputs": [
    {
     "name": "stderr",
     "output_type": "stream",
     "text": [
      "C:\\Users\\ASUS\\miniconda3\\lib\\site-packages\\seaborn\\_decorators.py:36: FutureWarning: Pass the following variable as a keyword arg: x. From version 0.12, the only valid positional argument will be `data`, and passing other arguments without an explicit keyword will result in an error or misinterpretation.\n",
      "  warnings.warn(\n"
     ]
    },
    {
     "data": {
      "text/plain": [
       "<AxesSubplot:xlabel='bedroom', ylabel='count'>"
      ]
     },
     "execution_count": 45,
     "metadata": {},
     "output_type": "execute_result"
    },
    {
     "data": {
      "image/png": "[encoded data removed]",
      "text/plain": [
       "<Figure size 432x288 with 1 Axes>"
      ]
     },
     "metadata": {
      "needs_background": "light"
     },
     "output_type": "display_data"
    }
   ],
   "source": [
    "sns.countplot(df.bedroom)"
   ]
  },
  {
   "cell_type": "markdown",
   "id": "715539ba",
   "metadata": {},
   "source": [
    "## Feature: hsize"
   ]
  },
  {
   "cell_type": "code",
   "execution_count": 47,
   "id": "bd6e2735",
   "metadata": {},
   "outputs": [
    {
     "data": {
      "text/plain": [
       "count    2674.000000\n",
       "mean      134.863126\n",
       "std       113.014554\n",
       "min         1.000000\n",
       "25%        54.000000\n",
       "50%        97.000000\n",
       "75%       180.000000\n",
       "max      1000.000000\n",
       "Name: hsize, dtype: float64"
      ]
     },
     "execution_count": 47,
     "metadata": {},
     "output_type": "execute_result"
    }
   ],
   "source": [
    "df.hsize.describe()"
   ]
  },
  {
   "cell_type": "code",
   "execution_count": 49,
   "id": "3a978a7c",
   "metadata": {},
   "outputs": [
    {
     "name": "stderr",
     "output_type": "stream",
     "text": [
      "C:\\Users\\ASUS\\miniconda3\\lib\\site-packages\\seaborn\\_decorators.py:36: FutureWarning: Pass the following variable as a keyword arg: x. From version 0.12, the only valid positional argument will be `data`, and passing other arguments without an explicit keyword will result in an error or misinterpretation.\n",
      "  warnings.warn(\n"
     ]
    },
    {
     "data": {
      "text/plain": [
       "<AxesSubplot:xlabel='hsize'>"
      ]
     },
     "execution_count": 49,
     "metadata": {},
     "output_type": "execute_result"
    },
    {
     "data": {
      "image/png": "[encoded data removed]",
      "text/plain": [
       "<Figure size 432x288 with 1 Axes>"
      ]
     },
     "metadata": {
      "needs_background": "light"
     },
     "output_type": "display_data"
    }
   ],
   "source": [
    "sns.boxplot(df.hsize,whis=3)"
   ]
  },
  {
   "cell_type": "markdown",
   "id": "45ee7fdb",
   "metadata": {},
   "source": [
    "- I'm not sure right now let's later check it with our target variable"
   ]
  },
  {
   "cell_type": "markdown",
   "id": "b399c046",
   "metadata": {},
   "source": [
    "## Feature: lsize"
   ]
  },
  {
   "cell_type": "code",
   "execution_count": 53,
   "id": "1f2bb10a",
   "metadata": {},
   "outputs": [
    {
     "data": {
      "text/plain": [
       "count    2674.000000\n",
       "mean      154.630890\n",
       "std       172.136712\n",
       "min         1.000000\n",
       "25%        74.000000\n",
       "50%       107.000000\n",
       "75%       188.000000\n",
       "max      4884.000000\n",
       "Name: lsize, dtype: float64"
      ]
     },
     "execution_count": 53,
     "metadata": {},
     "output_type": "execute_result"
    }
   ],
   "source": [
    "df.lsize.describe()"
   ]
  },
  {
   "cell_type": "code",
   "execution_count": 54,
   "id": "14390781",
   "metadata": {},
   "outputs": [
    {
     "name": "stderr",
     "output_type": "stream",
     "text": [
      "C:\\Users\\ASUS\\miniconda3\\lib\\site-packages\\seaborn\\_decorators.py:36: FutureWarning: Pass the following variable as a keyword arg: x. From version 0.12, the only valid positional argument will be `data`, and passing other arguments without an explicit keyword will result in an error or misinterpretation.\n",
      "  warnings.warn(\n"
     ]
    },
    {
     "data": {
      "text/plain": [
       "<AxesSubplot:xlabel='lsize'>"
      ]
     },
     "execution_count": 54,
     "metadata": {},
     "output_type": "execute_result"
    },
    {
     "data": {
      "image/png": "[encoded data removed]",
      "text/plain": [
       "<Figure size 432x288 with 1 Axes>"
      ]
     },
     "metadata": {
      "needs_background": "light"
     },
     "output_type": "display_data"
    }
   ],
   "source": [
    "sns.boxplot(df.lsize,whis=3)"
   ]
  },
  {
   "cell_type": "markdown",
   "id": "afe55477",
   "metadata": {},
   "source": [
    "- A house with lot size higher than 700 is an outlier for sure\n",
    "- But let's check it first"
   ]
  },
  {
   "cell_type": "code",
   "execution_count": 60,
   "id": "0d36ac59",
   "metadata": {},
   "outputs": [
    {
     "data": {
      "text/html": [
       "<div>\n",
       "<style scoped>\n",
       "    .dataframe tbody tr th:only-of-type {\n",
       "        vertical-align: middle;\n",
       "    }\n",
       "\n",
       "    .dataframe tbody tr th {\n",
       "        vertical-align: top;\n",
       "    }\n",
       "\n",
       "    .dataframe thead th {\n",
       "        text-align: right;\n",
       "    }\n",
       "</style>\n",
       "<table border=\"1\" class=\"dataframe\">\n",
       "  <thead>\n",
       "    <tr style=\"text-align: right;\">\n",
       "      <th></th>\n",
       "      <th>price</th>\n",
       "      <th>bedroom</th>\n",
       "      <th>hsize</th>\n",
       "      <th>lsize</th>\n",
       "      <th>location</th>\n",
       "      <th>facility</th>\n",
       "    </tr>\n",
       "  </thead>\n",
       "  <tbody>\n",
       "    <tr>\n",
       "      <th>849</th>\n",
       "      <td>7500.0</td>\n",
       "      <td>5</td>\n",
       "      <td>430.0</td>\n",
       "      <td>796</td>\n",
       "      <td>Hatta</td>\n",
       "      <td>NaN</td>\n",
       "    </tr>\n",
       "    <tr>\n",
       "      <th>1342</th>\n",
       "      <td>2800.0</td>\n",
       "      <td>3</td>\n",
       "      <td>300.0</td>\n",
       "      <td>910</td>\n",
       "      <td>Malang</td>\n",
       "      <td>NaN</td>\n",
       "    </tr>\n",
       "    <tr>\n",
       "      <th>1751</th>\n",
       "      <td>7000.0</td>\n",
       "      <td>5</td>\n",
       "      <td>462.0</td>\n",
       "      <td>831</td>\n",
       "      <td>Blimbing</td>\n",
       "      <td>NaN</td>\n",
       "    </tr>\n",
       "    <tr>\n",
       "      <th>2038</th>\n",
       "      <td>7100.0</td>\n",
       "      <td>6</td>\n",
       "      <td>600.0</td>\n",
       "      <td>800</td>\n",
       "      <td>Dieng</td>\n",
       "      <td>NaN</td>\n",
       "    </tr>\n",
       "    <tr>\n",
       "      <th>2383</th>\n",
       "      <td>1700.0</td>\n",
       "      <td>6</td>\n",
       "      <td>400.0</td>\n",
       "      <td>926</td>\n",
       "      <td>Lowokwaru</td>\n",
       "      <td>NaN</td>\n",
       "    </tr>\n",
       "    <tr>\n",
       "      <th>2431</th>\n",
       "      <td>1700.0</td>\n",
       "      <td>6</td>\n",
       "      <td>500.0</td>\n",
       "      <td>926</td>\n",
       "      <td>Lowokwaru</td>\n",
       "      <td>NaN</td>\n",
       "    </tr>\n",
       "    <tr>\n",
       "      <th>2439</th>\n",
       "      <td>1700.0</td>\n",
       "      <td>5</td>\n",
       "      <td>400.0</td>\n",
       "      <td>985</td>\n",
       "      <td>Blimbing</td>\n",
       "      <td>5.0</td>\n",
       "    </tr>\n",
       "    <tr>\n",
       "      <th>2466</th>\n",
       "      <td>1700.0</td>\n",
       "      <td>5</td>\n",
       "      <td>400.0</td>\n",
       "      <td>985</td>\n",
       "      <td>Blimbing</td>\n",
       "      <td>5.0</td>\n",
       "    </tr>\n",
       "    <tr>\n",
       "      <th>2579</th>\n",
       "      <td>7500.0</td>\n",
       "      <td>6</td>\n",
       "      <td>462.0</td>\n",
       "      <td>831</td>\n",
       "      <td>Blimbing</td>\n",
       "      <td>NaN</td>\n",
       "    </tr>\n",
       "  </tbody>\n",
       "</table>\n",
       "</div>"
      ],
      "text/plain": [
       "       price  bedroom  hsize  lsize   location  facility\n",
       "849   7500.0        5  430.0    796      Hatta       NaN\n",
       "1342  2800.0        3  300.0    910     Malang       NaN\n",
       "1751  7000.0        5  462.0    831   Blimbing       NaN\n",
       "2038  7100.0        6  600.0    800      Dieng       NaN\n",
       "2383  1700.0        6  400.0    926  Lowokwaru       NaN\n",
       "2431  1700.0        6  500.0    926  Lowokwaru       NaN\n",
       "2439  1700.0        5  400.0    985   Blimbing       5.0\n",
       "2466  1700.0        5  400.0    985   Blimbing       5.0\n",
       "2579  7500.0        6  462.0    831   Blimbing       NaN"
      ]
     },
     "execution_count": 60,
     "metadata": {},
     "output_type": "execute_result"
    }
   ],
   "source": [
    "lsize_outlier = df[df.lsize > 700]\n",
    "lsize_outlier"
   ]
  },
  {
   "cell_type": "code",
   "execution_count": 61,
   "id": "50f57908",
   "metadata": {},
   "outputs": [],
   "source": [
    "df = df[~df.lsize.isin(lsize_outlier.lsize)]"
   ]
  },
  {
   "cell_type": "code",
   "execution_count": 62,
   "id": "adc88afa",
   "metadata": {},
   "outputs": [
    {
     "name": "stderr",
     "output_type": "stream",
     "text": [
      "C:\\Users\\ASUS\\miniconda3\\lib\\site-packages\\seaborn\\_decorators.py:36: FutureWarning: Pass the following variable as a keyword arg: x. From version 0.12, the only valid positional argument will be `data`, and passing other arguments without an explicit keyword will result in an error or misinterpretation.\n",
      "  warnings.warn(\n"
     ]
    },
    {
     "data": {
      "text/plain": [
       "<AxesSubplot:xlabel='lsize'>"
      ]
     },
     "execution_count": 62,
     "metadata": {},
     "output_type": "execute_result"
    },
    {
     "data": {
      "image/png": "[encoded data removed]",
      "text/plain": [
       "<Figure size 432x288 with 1 Axes>"
      ]
     },
     "metadata": {
      "needs_background": "light"
     },
     "output_type": "display_data"
    }
   ],
   "source": [
    "sns.boxplot(df.lsize,whis=3)"
   ]
  },
  {
   "cell_type": "markdown",
   "id": "3024b569",
   "metadata": {},
   "source": [
    "## Feature: location"
   ]
  },
  {
   "cell_type": "code",
   "execution_count": 65,
   "id": "4b43108b",
   "metadata": {},
   "outputs": [
    {
     "data": {
      "text/plain": [
       "Lowokwaru    532\n",
       "Blimbing     462\n",
       "Malang       335\n",
       "Sukun        223\n",
       "Dau          157\n",
       "            ... \n",
       "BU             1\n",
       "II             1\n",
       "GOLF           1\n",
       "Mas            1\n",
       "langsep        1\n",
       "Name: location, Length: 129, dtype: int64"
      ]
     },
     "execution_count": 65,
     "metadata": {},
     "output_type": "execute_result"
    }
   ],
   "source": [
    "df.location.value_counts()"
   ]
  },
  {
   "cell_type": "markdown",
   "id": "317f76ab",
   "metadata": {},
   "source": [
    "- Since there are 129 unique location and there are only 5 district in Malang, let's bin them into 5 district and leave the others as 'other'"
   ]
  },
  {
   "cell_type": "code",
   "execution_count": 82,
   "id": "e995d519",
   "metadata": {},
   "outputs": [],
   "source": [
    "location = ['Lowokwaru', 'Blimbing', 'Sukun', 'Kedungkandang', 'Klojen']"
   ]
  },
  {
   "cell_type": "code",
   "execution_count": 83,
   "id": "f25aacd8",
   "metadata": {},
   "outputs": [],
   "source": [
    "df['location_bin'] = df.location.apply(lambda x: x if x in location else 'other')"
   ]
  },
  {
   "cell_type": "code",
   "execution_count": 84,
   "id": "b34df4a6",
   "metadata": {},
   "outputs": [
    {
     "data": {
      "text/plain": [
       "array(['Kedungkandang', 'other', 'Blimbing', 'Sukun', 'Lowokwaru',\n",
       "       'Klojen'], dtype=object)"
      ]
     },
     "execution_count": 84,
     "metadata": {},
     "output_type": "execute_result"
    }
   ],
   "source": [
    "df.location_bin.unique()"
   ]
  },
  {
   "cell_type": "code",
   "execution_count": 85,
   "id": "5f84d213",
   "metadata": {},
   "outputs": [
    {
     "name": "stderr",
     "output_type": "stream",
     "text": [
      "C:\\Users\\ASUS\\miniconda3\\lib\\site-packages\\seaborn\\_decorators.py:36: FutureWarning: Pass the following variable as a keyword arg: x. From version 0.12, the only valid positional argument will be `data`, and passing other arguments without an explicit keyword will result in an error or misinterpretation.\n",
      "  warnings.warn(\n"
     ]
    },
    {
     "data": {
      "text/plain": [
       "<AxesSubplot:xlabel='location_bin', ylabel='count'>"
      ]
     },
     "execution_count": 85,
     "metadata": {},
     "output_type": "execute_result"
    },
    {
     "data": {
      "image/png": "[encoded data removed]",
      "text/plain": [
       "<Figure size 432x288 with 1 Axes>"
      ]
     },
     "metadata": {
      "needs_background": "light"
     },
     "output_type": "display_data"
    }
   ],
   "source": [
    "sns.countplot(df.location_bin)"
   ]
  },
  {
   "cell_type": "code",
   "execution_count": 86,
   "id": "b40f405e",
   "metadata": {},
   "outputs": [],
   "source": [
    "df.drop('location', axis=1, inplace=True)"
   ]
  },
  {
   "cell_type": "markdown",
   "id": "6a53d8cf",
   "metadata": {},
   "source": [
    "## Feature: facility"
   ]
  },
  {
   "cell_type": "code",
   "execution_count": 92,
   "id": "a3e11d49",
   "metadata": {},
   "outputs": [
    {
     "data": {
      "text/plain": [
       "count    879.000000\n",
       "mean       4.918089\n",
       "std        3.531844\n",
       "min        1.000000\n",
       "25%        2.000000\n",
       "50%        4.000000\n",
       "75%        7.000000\n",
       "max       22.000000\n",
       "Name: facility, dtype: float64"
      ]
     },
     "execution_count": 92,
     "metadata": {},
     "output_type": "execute_result"
    }
   ],
   "source": [
    "df.facility.describe()"
   ]
  },
  {
   "cell_type": "code",
   "execution_count": 93,
   "id": "9617f0df",
   "metadata": {},
   "outputs": [
    {
     "data": {
      "text/plain": [
       "(2658, 6)"
      ]
     },
     "execution_count": 93,
     "metadata": {},
     "output_type": "execute_result"
    }
   ],
   "source": [
    "df.shape"
   ]
  },
  {
   "cell_type": "markdown",
   "id": "f502e90a",
   "metadata": {},
   "source": [
    "- There are so many missing values in here, we might consider drop it\n",
    "- And after investigating some samples, facility is subjective it have high chance of people over estimate their house facilities"
   ]
  },
  {
   "cell_type": "code",
   "execution_count": 94,
   "id": "051353a0",
   "metadata": {},
   "outputs": [],
   "source": [
    "df.drop('facility', axis=1, inplace=True)"
   ]
  },
  {
   "cell_type": "code",
   "execution_count": 95,
   "id": "3d3b487d",
   "metadata": {},
   "outputs": [
    {
     "data": {
      "text/html": [
       "<div>\n",
       "<style scoped>\n",
       "    .dataframe tbody tr th:only-of-type {\n",
       "        vertical-align: middle;\n",
       "    }\n",
       "\n",
       "    .dataframe tbody tr th {\n",
       "        vertical-align: top;\n",
       "    }\n",
       "\n",
       "    .dataframe thead th {\n",
       "        text-align: right;\n",
       "    }\n",
       "</style>\n",
       "<table border=\"1\" class=\"dataframe\">\n",
       "  <thead>\n",
       "    <tr style=\"text-align: right;\">\n",
       "      <th></th>\n",
       "      <th>price</th>\n",
       "      <th>bedroom</th>\n",
       "      <th>hsize</th>\n",
       "      <th>lsize</th>\n",
       "      <th>location_bin</th>\n",
       "    </tr>\n",
       "  </thead>\n",
       "  <tbody>\n",
       "    <tr>\n",
       "      <th>0</th>\n",
       "      <td>320.0</td>\n",
       "      <td>2</td>\n",
       "      <td>36.0</td>\n",
       "      <td>72</td>\n",
       "      <td>Kedungkandang</td>\n",
       "    </tr>\n",
       "    <tr>\n",
       "      <th>1</th>\n",
       "      <td>600.0</td>\n",
       "      <td>3</td>\n",
       "      <td>70.0</td>\n",
       "      <td>64</td>\n",
       "      <td>other</td>\n",
       "    </tr>\n",
       "    <tr>\n",
       "      <th>2</th>\n",
       "      <td>459.0</td>\n",
       "      <td>3</td>\n",
       "      <td>65.0</td>\n",
       "      <td>60</td>\n",
       "      <td>other</td>\n",
       "    </tr>\n",
       "    <tr>\n",
       "      <th>3</th>\n",
       "      <td>227.0</td>\n",
       "      <td>2</td>\n",
       "      <td>62.0</td>\n",
       "      <td>43</td>\n",
       "      <td>other</td>\n",
       "    </tr>\n",
       "    <tr>\n",
       "      <th>4</th>\n",
       "      <td>250.0</td>\n",
       "      <td>2</td>\n",
       "      <td>50.0</td>\n",
       "      <td>84</td>\n",
       "      <td>other</td>\n",
       "    </tr>\n",
       "  </tbody>\n",
       "</table>\n",
       "</div>"
      ],
      "text/plain": [
       "   price  bedroom  hsize  lsize   location_bin\n",
       "0  320.0        2   36.0     72  Kedungkandang\n",
       "1  600.0        3   70.0     64          other\n",
       "2  459.0        3   65.0     60          other\n",
       "3  227.0        2   62.0     43          other\n",
       "4  250.0        2   50.0     84          other"
      ]
     },
     "execution_count": 95,
     "metadata": {},
     "output_type": "execute_result"
    }
   ],
   "source": [
    "df.head()"
   ]
  },
  {
   "cell_type": "markdown",
   "id": "9cdb2a9f",
   "metadata": {},
   "source": [
    "## Feature: price per m2"
   ]
  },
  {
   "cell_type": "markdown",
   "id": "624238ec",
   "metadata": {},
   "source": [
    "Let's create a feature for price per m2 to see wheter there are some nonsense in our data."
   ]
  },
  {
   "cell_type": "code",
   "execution_count": 96,
   "id": "da2661c7",
   "metadata": {},
   "outputs": [],
   "source": [
    "df['price_perm2'] = df.price / df.lsize"
   ]
  },
  {
   "cell_type": "code",
   "execution_count": 98,
   "id": "cf4c6381",
   "metadata": {},
   "outputs": [
    {
     "data": {
      "text/plain": [
       "count    2650.000000\n",
       "mean        9.392953\n",
       "std        12.389660\n",
       "min         0.611111\n",
       "25%         6.111111\n",
       "50%         8.333333\n",
       "75%        11.250000\n",
       "max       550.000000\n",
       "Name: price_perm2, dtype: float64"
      ]
     },
     "execution_count": 98,
     "metadata": {},
     "output_type": "execute_result"
    }
   ],
   "source": [
    "df.price_perm2.describe()"
   ]
  },
  {
   "cell_type": "code",
   "execution_count": 104,
   "id": "e931a709",
   "metadata": {},
   "outputs": [
    {
     "name": "stderr",
     "output_type": "stream",
     "text": [
      "C:\\Users\\ASUS\\miniconda3\\lib\\site-packages\\seaborn\\_decorators.py:36: FutureWarning: Pass the following variable as a keyword arg: x. From version 0.12, the only valid positional argument will be `data`, and passing other arguments without an explicit keyword will result in an error or misinterpretation.\n",
      "  warnings.warn(\n"
     ]
    },
    {
     "data": {
      "text/plain": [
       "<AxesSubplot:xlabel='price_perm2'>"
      ]
     },
     "execution_count": 104,
     "metadata": {},
     "output_type": "execute_result"
    },
    {
     "data": {
      "image/png": "[encoded data removed]",
      "text/plain": [
       "<Figure size 432x288 with 1 Axes>"
      ]
     },
     "metadata": {
      "needs_background": "light"
     },
     "output_type": "display_data"
    }
   ],
   "source": [
    "sns.boxplot(df.price_perm2)"
   ]
  },
  {
   "cell_type": "markdown",
   "id": "b6cf4bb5",
   "metadata": {},
   "source": [
    "- there are still some outlier in our data"
   ]
  },
  {
   "cell_type": "code",
   "execution_count": 122,
   "id": "34e9672e",
   "metadata": {},
   "outputs": [
    {
     "data": {
      "text/html": [
       "<div>\n",
       "<style scoped>\n",
       "    .dataframe tbody tr th:only-of-type {\n",
       "        vertical-align: middle;\n",
       "    }\n",
       "\n",
       "    .dataframe tbody tr th {\n",
       "        vertical-align: top;\n",
       "    }\n",
       "\n",
       "    .dataframe thead th {\n",
       "        text-align: right;\n",
       "    }\n",
       "</style>\n",
       "<table border=\"1\" class=\"dataframe\">\n",
       "  <thead>\n",
       "    <tr style=\"text-align: right;\">\n",
       "      <th></th>\n",
       "      <th>price</th>\n",
       "      <th>bedroom</th>\n",
       "      <th>hsize</th>\n",
       "      <th>lsize</th>\n",
       "      <th>location_bin</th>\n",
       "      <th>price_perm2</th>\n",
       "    </tr>\n",
       "  </thead>\n",
       "  <tbody>\n",
       "    <tr>\n",
       "      <th>98</th>\n",
       "      <td>260.0</td>\n",
       "      <td>2</td>\n",
       "      <td>30.0</td>\n",
       "      <td>1</td>\n",
       "      <td>other</td>\n",
       "      <td>260.000000</td>\n",
       "    </tr>\n",
       "    <tr>\n",
       "      <th>141</th>\n",
       "      <td>5415.0</td>\n",
       "      <td>5</td>\n",
       "      <td>274.0</td>\n",
       "      <td>264</td>\n",
       "      <td>Sukun</td>\n",
       "      <td>20.511364</td>\n",
       "    </tr>\n",
       "    <tr>\n",
       "      <th>180</th>\n",
       "      <td>2650.0</td>\n",
       "      <td>2</td>\n",
       "      <td>189.0</td>\n",
       "      <td>126</td>\n",
       "      <td>other</td>\n",
       "      <td>21.031746</td>\n",
       "    </tr>\n",
       "    <tr>\n",
       "      <th>227</th>\n",
       "      <td>7500.0</td>\n",
       "      <td>5</td>\n",
       "      <td>450.0</td>\n",
       "      <td>305</td>\n",
       "      <td>other</td>\n",
       "      <td>24.590164</td>\n",
       "    </tr>\n",
       "    <tr>\n",
       "      <th>243</th>\n",
       "      <td>2400.0</td>\n",
       "      <td>4</td>\n",
       "      <td>236.0</td>\n",
       "      <td>118</td>\n",
       "      <td>other</td>\n",
       "      <td>20.338983</td>\n",
       "    </tr>\n",
       "  </tbody>\n",
       "</table>\n",
       "</div>"
      ],
      "text/plain": [
       "      price  bedroom  hsize  lsize location_bin  price_perm2\n",
       "98    260.0        2   30.0      1        other   260.000000\n",
       "141  5415.0        5  274.0    264        Sukun    20.511364\n",
       "180  2650.0        2  189.0    126        other    21.031746\n",
       "227  7500.0        5  450.0    305        other    24.590164\n",
       "243  2400.0        4  236.0    118        other    20.338983"
      ]
     },
     "execution_count": 122,
     "metadata": {},
     "output_type": "execute_result"
    }
   ],
   "source": [
    "outlier_perm2 = df[df.price_perm2 > 20]\n",
    "outlier_perm2.head()"
   ]
  },
  {
   "cell_type": "markdown",
   "id": "367413d6",
   "metadata": {},
   "source": [
    "- The mean of price per m2 in Malang normally is about 8-9 Million IDR"
   ]
  },
  {
   "cell_type": "code",
   "execution_count": 123,
   "id": "8798c866",
   "metadata": {},
   "outputs": [],
   "source": [
    "df = df[~df.price_perm2.isin(outlier_perm2.price_perm2)]"
   ]
  },
  {
   "cell_type": "code",
   "execution_count": 125,
   "id": "ab4608ac",
   "metadata": {},
   "outputs": [
    {
     "name": "stderr",
     "output_type": "stream",
     "text": [
      "C:\\Users\\ASUS\\miniconda3\\lib\\site-packages\\seaborn\\_decorators.py:36: FutureWarning: Pass the following variable as a keyword arg: x. From version 0.12, the only valid positional argument will be `data`, and passing other arguments without an explicit keyword will result in an error or misinterpretation.\n",
      "  warnings.warn(\n"
     ]
    },
    {
     "data": {
      "text/plain": [
       "<AxesSubplot:xlabel='price_perm2'>"
      ]
     },
     "execution_count": 125,
     "metadata": {},
     "output_type": "execute_result"
    },
    {
     "data": {
      "image/png": "[encoded data removed]",
      "text/plain": [
       "<Figure size 432x288 with 1 Axes>"
      ]
     },
     "metadata": {
      "needs_background": "light"
     },
     "output_type": "display_data"
    }
   ],
   "source": [
    "sns.boxplot(df.price_perm2)"
   ]
  },
  {
   "cell_type": "markdown",
   "id": "2599f63d",
   "metadata": {},
   "source": [
    "- Let's drop this feature since we don't need it anymore"
   ]
  },
  {
   "cell_type": "code",
   "execution_count": 126,
   "id": "77e3cecc",
   "metadata": {},
   "outputs": [
    {
     "name": "stderr",
     "output_type": "stream",
     "text": [
      "C:\\Users\\ASUS\\AppData\\Local\\Temp/ipykernel_1860/3490082335.py:1: SettingWithCopyWarning: \n",
      "A value is trying to be set on a copy of a slice from a DataFrame\n",
      "\n",
      "See the caveats in the documentation: https://pandas.pydata.org/pandas-docs/stable/user_guide/indexing.html#returning-a-view-versus-a-copy\n",
      "  df.drop('price_perm2', axis=1, inplace=True)\n"
     ]
    }
   ],
   "source": [
    "df.drop('price_perm2', axis=1, inplace=True)"
   ]
  },
  {
   "cell_type": "markdown",
   "id": "bc7fc524",
   "metadata": {},
   "source": [
    "## Target vs Feature"
   ]
  },
  {
   "cell_type": "code",
   "execution_count": 130,
   "id": "5659df62",
   "metadata": {},
   "outputs": [
    {
     "data": {
      "text/plain": [
       "<seaborn.axisgrid.PairGrid at 0x109fb155790>"
      ]
     },
     "execution_count": 130,
     "metadata": {},
     "output_type": "execute_result"
    },
    {
     "data": {
      "image/png": "[encoded data removed]",
      "text/plain": [
       "<Figure size 720x720 with 20 Axes>"
      ]
     },
     "metadata": {
      "needs_background": "light"
     },
     "output_type": "display_data"
    }
   ],
   "source": [
    "sns.pairplot(df)"
   ]
  },
  {
   "cell_type": "markdown",
   "id": "40326947",
   "metadata": {},
   "source": [
    "- There are some outlier where the the price is low but have huge house size"
   ]
  },
  {
   "cell_type": "code",
   "execution_count": 134,
   "id": "eb2c4a14",
   "metadata": {},
   "outputs": [
    {
     "data": {
      "text/html": [
       "<div>\n",
       "<style scoped>\n",
       "    .dataframe tbody tr th:only-of-type {\n",
       "        vertical-align: middle;\n",
       "    }\n",
       "\n",
       "    .dataframe tbody tr th {\n",
       "        vertical-align: top;\n",
       "    }\n",
       "\n",
       "    .dataframe thead th {\n",
       "        text-align: right;\n",
       "    }\n",
       "</style>\n",
       "<table border=\"1\" class=\"dataframe\">\n",
       "  <thead>\n",
       "    <tr style=\"text-align: right;\">\n",
       "      <th></th>\n",
       "      <th>price</th>\n",
       "      <th>bedroom</th>\n",
       "      <th>hsize</th>\n",
       "      <th>lsize</th>\n",
       "      <th>location_bin</th>\n",
       "    </tr>\n",
       "  </thead>\n",
       "  <tbody>\n",
       "    <tr>\n",
       "      <th>290</th>\n",
       "      <td>995.0</td>\n",
       "      <td>3</td>\n",
       "      <td>1000.0</td>\n",
       "      <td>98</td>\n",
       "      <td>other</td>\n",
       "    </tr>\n",
       "    <tr>\n",
       "      <th>2365</th>\n",
       "      <td>594.0</td>\n",
       "      <td>2</td>\n",
       "      <td>745.0</td>\n",
       "      <td>100</td>\n",
       "      <td>Blimbing</td>\n",
       "    </tr>\n",
       "  </tbody>\n",
       "</table>\n",
       "</div>"
      ],
      "text/plain": [
       "      price  bedroom   hsize  lsize location_bin\n",
       "290   995.0        3  1000.0     98        other\n",
       "2365  594.0        2   745.0    100     Blimbing"
      ]
     },
     "execution_count": 134,
     "metadata": {},
     "output_type": "execute_result"
    }
   ],
   "source": [
    "hsize_outlier = df[(df.price < 1000) & (df.hsize > 500)]\n",
    "hsize_outlier"
   ]
  },
  {
   "cell_type": "code",
   "execution_count": 135,
   "id": "a5d25a24",
   "metadata": {},
   "outputs": [],
   "source": [
    "df = df[~df.isin(hsize_outlier)]"
   ]
  },
  {
   "cell_type": "code",
   "execution_count": 140,
   "id": "d3664e1e",
   "metadata": {},
   "outputs": [
    {
     "data": {
      "text/plain": [
       "<AxesSubplot:xlabel='location_bin', ylabel='price'>"
      ]
     },
     "execution_count": 140,
     "metadata": {},
     "output_type": "execute_result"
    },
    {
     "data": {
      "image/png": "[encoded data removed]",
      "text/plain": [
       "<Figure size 432x288 with 1 Axes>"
      ]
     },
     "metadata": {
      "needs_background": "light"
     },
     "output_type": "display_data"
    }
   ],
   "source": [
    "sns.boxplot(y='price', x='location_bin', data=df)"
   ]
  },
  {
   "cell_type": "markdown",
   "id": "8fd62905",
   "metadata": {},
   "source": [
    "- The lowest median of house price in Malang is in Kedungkandang\n",
    "- The highest is Klojen"
   ]
  }
 ],
 "metadata": {
  "kernelspec": {
   "display_name": "Python 3 (ipykernel)",
   "language": "python",
   "name": "python3"
  },
  "language_info": {
   "codemirror_mode": {
    "name": "ipython",
    "version": 3
   },
   "file_extension": ".py",
   "mimetype": "text/x-python",
   "name": "python",
   "nbconvert_exporter": "python",
   "pygments_lexer": "ipython3",
   "version": "3.9.7"
  },
  "varInspector": {
   "cols": {
    "lenName": 16,
    "lenType": 16,
    "lenVar": 40
   },
   "kernels_config": {
    "python": {
     "delete_cmd_postfix": "",
     "delete_cmd_prefix": "del ",
     "library": "var_list.py",
     "varRefreshCmd": "print(var_dic_list())"
    },
    "r": {
     "delete_cmd_postfix": ") ",
     "delete_cmd_prefix": "rm(",
     "library": "var_list.r",
     "varRefreshCmd": "cat(var_dic_list()) "
    }
   },
   "types_to_exclude": [
    "module",
    "function",
    "builtin_function_or_method",
    "instance",
    "_Feature"
   ],
   "window_display": false
  }
 },
 "nbformat": 4,
 "nbformat_minor": 5
}
